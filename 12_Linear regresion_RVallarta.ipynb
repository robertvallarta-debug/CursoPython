{
 "cells": [
  {
   "cell_type": "code",
   "execution_count": 1,
   "id": "55cd1bc9",
   "metadata": {},
   "outputs": [],
   "source": [
    "def import_csv(file):\n",
    "    # Read the file into a DataFrame: df\n",
    "    import pandas as pd\n",
    "    return pd.read_csv(file)"
   ]
  },
  {
   "cell_type": "code",
   "execution_count": 2,
   "id": "1e3256f4",
   "metadata": {},
   "outputs": [],
   "source": [
    "import pandas as pd\n",
    "\n",
    "def read_csv_to_dataframe(file_path):\n",
    "    \"\"\"\n",
    "    Reads a comma-separated CSV file and converts it into a pandas DataFrame.\n",
    "    \n",
    "    Parameters:\n",
    "        file_path (str): Path to the CSV file.\n",
    "    \n",
    "    Returns:\n",
    "        pd.DataFrame: DataFrame containing the CSV data.\n",
    "    \"\"\"\n",
    "    df = pd.read_csv(file_path)  # assumes the file is comma-separated\n",
    "    return df"
   ]
  },
  {
   "cell_type": "code",
   "execution_count": 3,
   "id": "29369083",
   "metadata": {},
   "outputs": [
    {
     "name": "stdout",
     "output_type": "stream",
     "text": [
      "   sample      date     estuary   area station layer_depth season  \\\n",
      "0  CDL01S  5/3/2020  Candelaria  River   CDL01     Surface    Dry   \n",
      "1  CDL01F  5/3/2020  Candelaria  River   CDL01      Bottom    Dry   \n",
      "2  CDL02S  5/3/2020  Candelaria  River   CDL02     Surface    Dry   \n",
      "3  CDL02F  5/3/2020  Candelaria  River   CDL02      Bottom    Dry   \n",
      "4  CDL03S  5/3/2020  Candelaria  River   CDL03     Surface    Dry   \n",
      "\n",
      "   chlorophy_microg_l  cond_microsiemens_cm  depth_m  ...  do_mg_l  sal_psu  \\\n",
      "0                0.36                7015.4    0.464  ...     7.12     3.56   \n",
      "1                4.19               29886.1    7.792  ...     4.90    16.97   \n",
      "2                0.92               16691.1    0.453  ...     6.99     8.94   \n",
      "3                2.23               24847.4    1.261  ...     6.52    13.87   \n",
      "4                0.58               46341.6    0.465  ...     6.24    28.06   \n",
      "\n",
      "   sp_cond_microsiemens_cm  turbidity_fnu  temp_c  latitude  longitude  \\\n",
      "0                   6547.7           1.47  28.740  18.55736  -91.25012   \n",
      "1                  27751.2          95.33  29.028  18.55722  -91.24990   \n",
      "2                  15429.1           5.50  29.283  18.61007  -91.24410   \n",
      "3                  23074.0          13.44  29.024  18.61005  -91.24403   \n",
      "4                  43670.8           3.60  28.202  18.63166  -91.29359   \n",
      "\n",
      "   dic_micromol_kg  ta_micromol_kg  dummy_data  \n",
      "0             3915            3863      3685.0  \n",
      "1             3698            3685         NaN  \n",
      "2             3724            3708      3708.0  \n",
      "3             3667            3992      3992.0  \n",
      "4             2928            3023      3023.0  \n",
      "\n",
      "[5 rows x 21 columns]\n"
     ]
    }
   ],
   "source": [
    "# Ensure the function is defined (run the cell with the function definition if needed)\n",
    "terminos_df = read_csv_to_dataframe(r\"C:\\git_RobertVZ\\CursoPython\\bases_datos\\Terminos_lagoon_TA_DIC_2023_RawData.csv\")\n",
    "print(terminos_df.head())  # show first 5 rows"
   ]
  },
  {
   "cell_type": "code",
   "execution_count": 5,
   "id": "3b06d659",
   "metadata": {},
   "outputs": [
    {
     "data": {
      "image/png": "[encoded data removed]",
      "text/plain": [
       "<Figure size 600x400 with 1 Axes>"
      ]
     },
     "metadata": {},
     "output_type": "display_data"
    },
    {
     "name": "stdout",
     "output_type": "stream",
     "text": [
      "Slope: -6.237079764689512\n"
     ]
    }
   ],
   "source": [
    "import matplotlib.pyplot as plt\n",
    "from scipy import stats\n",
    "\n",
    "x = terminos_df['temp_c']\n",
    "y = terminos_df['sal_psu']\n",
    "\n",
    "plt.scatter(x, y, label='original data')\n",
    "\n",
    "# Add labels and title\n",
    "plt.xlabel('Temperature (°C)', fontsize = 12, )\n",
    "plt.ylabel('Salinity (UPS)', fontsize = 12)\n",
    "\n",
    "# Calculate the linear regression line\n",
    "slope, intercept, r_value, p_value, std_err = stats.linregress(x, y)\n",
    "\n",
    "# Plot linear regression \n",
    "\n",
    "plt.plot(x, intercept + slope*x, 'r', label='fitted line')\n",
    "\n",
    "# set the figure size\n",
    "plt.gcf().set_size_inches(6, 4)\n",
    "\n",
    "# save the plot as a PDF file paper format \n",
    "import os\n",
    "output_dir = '../output_files'\n",
    "os.makedirs(output_dir, exist_ok=True)\n",
    "plt.savefig(os.path.join(output_dir, 'TEMP_SAL.pdf'), dpi=300, bbox_inches='tight')\n",
    "\n",
    "\n",
    "plt.show()\n",
    "\n",
    "print('Slope:', slope)\n"
   ]
  },
  {
   "cell_type": "code",
   "execution_count": 6,
   "id": "d4bdfda2",
   "metadata": {},
   "outputs": [
    {
     "name": "stdout",
     "output_type": "stream",
     "text": [
      "r-squared: 0.17749929096684752\n",
      "p_value: 6.879907520531154e-06\n",
      "slope: -6.237079764689512\n",
      "intercept: 184.22846870564854\n"
     ]
    }
   ],
   "source": [
    "print(\"r-squared:\", r_value**2)\n",
    "print(\"p_value:\", p_value)\n",
    "print(\"slope:\", slope)\n",
    "print(\"intercept:\", intercept)"
   ]
  },
  {
   "cell_type": "code",
   "execution_count": 7,
   "id": "65ee8cc7",
   "metadata": {},
   "outputs": [
    {
     "name": "stdout",
     "output_type": "stream",
     "text": [
      "                            OLS Regression Results                            \n",
      "==============================================================================\n",
      "Dep. Variable:                sal_psu   R-squared:                       0.177\n",
      "Model:                            OLS   Adj. R-squared:                  0.170\n",
      "Method:                 Least Squares   F-statistic:                     22.44\n",
      "Date:                Thu, 28 Aug 2025   Prob (F-statistic):           6.88e-06\n",
      "Time:                        14:45:54   Log-Likelihood:                -416.05\n",
      "No. Observations:                 106   AIC:                             836.1\n",
      "Df Residuals:                     104   BIC:                             841.4\n",
      "Df Model:                           1                                         \n",
      "Covariance Type:            nonrobust                                         \n",
      "==============================================================================\n",
      "                 coef    std err          t      P>|t|      [0.025      0.975]\n",
      "------------------------------------------------------------------------------\n",
      "const        184.2285     35.249      5.226      0.000     114.327     254.130\n",
      "temp_c        -6.2371      1.317     -4.737      0.000      -8.848      -3.626\n",
      "==============================================================================\n",
      "Omnibus:                       21.418   Durbin-Watson:                   0.575\n",
      "Prob(Omnibus):                  0.000   Jarque-Bera (JB):                6.500\n",
      "Skew:                          -0.292   Prob(JB):                       0.0388\n",
      "Kurtosis:                       1.937   Cond. No.                         786.\n",
      "==============================================================================\n",
      "\n",
      "Notes:\n",
      "[1] Standard Errors assume that the covariance matrix of the errors is correctly specified.\n"
     ]
    }
   ],
   "source": [
    "import statsmodels.api as sm\n",
    "import numpy as np\n",
    "\n",
    "# Define the independent and dependent variables\n",
    "x = terminos_df['temp_c']\n",
    "y = terminos_df['sal_psu']\n",
    "\n",
    "# Add a constant to include the intercept in the model\n",
    "# This step is necessary; otherwise, the regression will be forced through the origin (intercept = 0)\n",
    "x = sm.add_constant(x)\n",
    "\n",
    "# Fit the Ordinary Least Squares (OLS) linear regression model\n",
    "model = sm.OLS(y, x).fit()\n",
    "\n",
    "# Display the model summary\n",
    "print(model.summary())"
   ]
  },
  {
   "cell_type": "code",
   "execution_count": 8,
   "id": "2ca9df88",
   "metadata": {},
   "outputs": [
    {
     "name": "stdout",
     "output_type": "stream",
     "text": [
      "\n",
      "=== MODEL INTERPRETATION ===\n",
      "\n",
      "R² = 0.177\n",
      "❌ Weak model fit: Explains little variance. Review your model.\n",
      "\n",
      "Coefficients:\n",
      "- const: Coef = 184.2285, p = 0.0000 → ✔️ Significant (p < 0.05)\n",
      "- temp_c: Coef = -6.2371, p = 0.0000 → ✔️ Significant (p < 0.05)\n",
      "\n",
      "Slope (temp_c): -6.2371, p = 0.0000 → ✔️ Significant\n",
      "\n",
      "Standard Error of the model: 12.3741\n"
     ]
    }
   ],
   "source": [
    "print(\"\\n=== MODEL INTERPRETATION ===\\n\")\n",
    "\n",
    "# R-squared and fit quality\n",
    "r2 = model.rsquared\n",
    "fit_quality = (\n",
    "    \"✔️ Good model fit: Explains most of the variance.\" if r2 >= 0.7 else\n",
    "    \"⚠️ Moderate model fit: Explains part of the variance.\" if r2 >= 0.4 else\n",
    "    \"❌ Weak model fit: Explains little variance. Review your model.\"\n",
    ")\n",
    "print(f\"R² = {r2:.3f}\\n{fit_quality}\")\n",
    "\n",
    "# Coefficients and p-values\n",
    "results = model.summary2().tables[1]\n",
    "slope_var = results.index.drop('const')[0]  # Assuming one predictor\n",
    "\n",
    "print(\"\\nCoefficients:\")\n",
    "for var, row in results.iterrows():\n",
    "    coef, pval = row['Coef.'], row['P>|t|']\n",
    "    significance = \"✔️ Significant (p < 0.05)\" if pval < 0.05 else \"⚠️ Not significant (p ≥ 0.05)\"\n",
    "    print(f\"- {var}: Coef = {coef:.4f}, p = {pval:.4f} → {significance}\")\n",
    "\n",
    "# Slope interpretation\n",
    "slope_coef, slope_pval = results.loc[slope_var, ['Coef.', 'P>|t|']]\n",
    "print(f\"\\nSlope ({slope_var}): {slope_coef:.4f}, p = {slope_pval:.4f} → \"\n",
    "      f\"{'✔️ Significant' if slope_pval < 0.05 else '⚠️ Not significant'}\")\n",
    "\n",
    "# Standard Error\n",
    "print(f\"\\nStandard Error of the model: {np.sqrt(model.scale):.4f}\")"
   ]
  },
  {
   "cell_type": "code",
   "execution_count": 9,
   "id": "785141c2",
   "metadata": {},
   "outputs": [
    {
     "data": {
      "image/png": "[encoded data removed]",
      "text/plain": [
       "<Figure size 600x400 with 1 Axes>"
      ]
     },
     "metadata": {},
     "output_type": "display_data"
    },
    {
     "name": "stdout",
     "output_type": "stream",
     "text": [
      "Slope: -0.015537057058518267\n"
     ]
    }
   ],
   "source": [
    "import matplotlib.pyplot as plt\n",
    "from scipy import stats\n",
    "\n",
    "x = terminos_df['dic_micromol_kg']\n",
    "y = terminos_df['sal_psu']\n",
    "\n",
    "plt.scatter(x, y, label='original data')\n",
    "\n",
    "# Add labels and title\n",
    "plt.xlabel('DIC (micromol/kg)', fontsize = 12, )\n",
    "plt.ylabel('Salinity (UPS)', fontsize = 12)\n",
    "\n",
    "# Calculate the linear regression line\n",
    "slope, intercept, r_value, p_value, std_err = stats.linregress(x, y)\n",
    "\n",
    "# Plot linear regression \n",
    "\n",
    "plt.plot(x, intercept + slope*x, 'r', label='fitted line')\n",
    "\n",
    "# set the figure size\n",
    "plt.gcf().set_size_inches(6, 4)\n",
    "\n",
    "# save the plot as a PDF file paper format \n",
    "import os\n",
    "output_dir = '../output_files'\n",
    "os.makedirs(output_dir, exist_ok=True)\n",
    "plt.savefig(os.path.join(output_dir, 'TEMP_SAL.pdf'), dpi=300, bbox_inches='tight')\n",
    "\n",
    "\n",
    "plt.show()\n",
    "\n",
    "print('Slope:', slope)"
   ]
  },
  {
   "cell_type": "code",
   "execution_count": 10,
   "id": "dc6d95a8",
   "metadata": {},
   "outputs": [
    {
     "name": "stdout",
     "output_type": "stream",
     "text": [
      "r-squared: 0.32710473310227767\n",
      "p_value: 1.51441040237653e-10\n",
      "slope: -0.015537057058518267\n",
      "intercept: 60.80437362978961\n"
     ]
    }
   ],
   "source": [
    "print(\"r-squared:\", r_value**2)\n",
    "print(\"p_value:\", p_value)\n",
    "print(\"slope:\", slope)\n",
    "print(\"intercept:\", intercept)"
   ]
  },
  {
   "cell_type": "code",
   "execution_count": 11,
   "id": "9add5d13",
   "metadata": {},
   "outputs": [
    {
     "name": "stdout",
     "output_type": "stream",
     "text": [
      "                            OLS Regression Results                            \n",
      "==============================================================================\n",
      "Dep. Variable:                sal_psu   R-squared:                       0.327\n",
      "Model:                            OLS   Adj. R-squared:                  0.321\n",
      "Method:                 Least Squares   F-statistic:                     50.56\n",
      "Date:                Thu, 28 Aug 2025   Prob (F-statistic):           1.51e-10\n",
      "Time:                        14:49:16   Log-Likelihood:                -405.41\n",
      "No. Observations:                 106   AIC:                             814.8\n",
      "Df Residuals:                     104   BIC:                             820.2\n",
      "Df Model:                           1                                         \n",
      "Covariance Type:            nonrobust                                         \n",
      "===================================================================================\n",
      "                      coef    std err          t      P>|t|      [0.025      0.975]\n",
      "-----------------------------------------------------------------------------------\n",
      "const              60.8044      6.210      9.791      0.000      48.490      73.119\n",
      "dic_micromol_kg    -0.0155      0.002     -7.110      0.000      -0.020      -0.011\n",
      "==============================================================================\n",
      "Omnibus:                       60.706   Durbin-Watson:                   0.538\n",
      "Prob(Omnibus):                  0.000   Jarque-Bera (JB):                8.897\n",
      "Skew:                          -0.290   Prob(JB):                       0.0117\n",
      "Kurtosis:                       1.704   Cond. No.                     1.62e+04\n",
      "==============================================================================\n",
      "\n",
      "Notes:\n",
      "[1] Standard Errors assume that the covariance matrix of the errors is correctly specified.\n",
      "[2] The condition number is large, 1.62e+04. This might indicate that there are\n",
      "strong multicollinearity or other numerical problems.\n"
     ]
    }
   ],
   "source": [
    "import statsmodels.api as sm\n",
    "import numpy as np\n",
    "\n",
    "# Define the independent and dependent variables\n",
    "x = terminos_df['dic_micromol_kg']\n",
    "y = terminos_df['sal_psu']\n",
    "\n",
    "# Add a constant to include the intercept in the model\n",
    "# This step is necessary; otherwise, the regression will be forced through the origin (intercept = 0)\n",
    "x = sm.add_constant(x)\n",
    "\n",
    "# Fit the Ordinary Least Squares (OLS) linear regression model\n",
    "model = sm.OLS(y, x).fit()\n",
    "\n",
    "# Display the model summary\n",
    "print(model.summary())"
   ]
  },
  {
   "cell_type": "code",
   "execution_count": 12,
   "id": "23dcd49a",
   "metadata": {},
   "outputs": [
    {
     "name": "stdout",
     "output_type": "stream",
     "text": [
      "\n",
      "=== MODEL INTERPRETATION ===\n",
      "\n",
      "R² = 0.327\n",
      "❌ Weak model fit: Explains little variance. Review your model.\n",
      "\n",
      "Coefficients:\n",
      "- const: Coef = 60.8044, p = 0.0000 → ✔️ Significant (p < 0.05)\n",
      "- dic_micromol_kg: Coef = -0.0155, p = 0.0000 → ✔️ Significant (p < 0.05)\n",
      "\n",
      "Slope (dic_micromol_kg): -0.0155, p = 0.0000 → ✔️ Significant\n",
      "\n",
      "Standard Error of the model: 11.1923\n"
     ]
    }
   ],
   "source": [
    "print(\"\\n=== MODEL INTERPRETATION ===\\n\")\n",
    "\n",
    "# R-squared and fit quality\n",
    "r2 = model.rsquared\n",
    "fit_quality = (\n",
    "    \"✔️ Good model fit: Explains most of the variance.\" if r2 >= 0.7 else\n",
    "    \"⚠️ Moderate model fit: Explains part of the variance.\" if r2 >= 0.4 else\n",
    "    \"❌ Weak model fit: Explains little variance. Review your model.\"\n",
    ")\n",
    "print(f\"R² = {r2:.3f}\\n{fit_quality}\")\n",
    "\n",
    "# Coefficients and p-values\n",
    "results = model.summary2().tables[1]\n",
    "slope_var = results.index.drop('const')[0]  # Assuming one predictor\n",
    "\n",
    "print(\"\\nCoefficients:\")\n",
    "for var, row in results.iterrows():\n",
    "    coef, pval = row['Coef.'], row['P>|t|']\n",
    "    significance = \"✔️ Significant (p < 0.05)\" if pval < 0.05 else \"⚠️ Not significant (p ≥ 0.05)\"\n",
    "    print(f\"- {var}: Coef = {coef:.4f}, p = {pval:.4f} → {significance}\")\n",
    "\n",
    "# Slope interpretation\n",
    "slope_coef, slope_pval = results.loc[slope_var, ['Coef.', 'P>|t|']]\n",
    "print(f\"\\nSlope ({slope_var}): {slope_coef:.4f}, p = {slope_pval:.4f} → \"\n",
    "      f\"{'✔️ Significant' if slope_pval < 0.05 else '⚠️ Not significant'}\")\n",
    "\n",
    "# Standard Error\n",
    "print(f\"\\nStandard Error of the model: {np.sqrt(model.scale):.4f}\")"
   ]
  }
 ],
 "metadata": {
  "kernelspec": {
   "display_name": "base",
   "language": "python",
   "name": "python3"
  },
  "language_info": {
   "codemirror_mode": {
    "name": "ipython",
    "version": 3
   },
   "file_extension": ".py",
   "mimetype": "text/x-python",
   "name": "python",
   "nbconvert_exporter": "python",
   "pygments_lexer": "ipython3",
   "version": "3.13.5"
  }
 },
 "nbformat": 4,
 "nbformat_minor": 5
}
