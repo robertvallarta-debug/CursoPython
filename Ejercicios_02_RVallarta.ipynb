{
 "cells": [
  {
   "cell_type": "code",
   "execution_count": 1,
   "id": "e2cfc78f",
   "metadata": {},
   "outputs": [],
   "source": [
    "def square(x):\n",
    "    return x ** 2"
   ]
  },
  {
   "cell_type": "code",
   "execution_count": 2,
   "id": "13ffdd27",
   "metadata": {},
   "outputs": [],
   "source": [
    "def absolute_value(x):\n",
    "    if x < 0:\n",
    "        return -x\n",
    "    return x"
   ]
  },
  {
   "cell_type": "code",
   "execution_count": 3,
   "id": "48b76e37",
   "metadata": {},
   "outputs": [],
   "source": [
    "def composite_function(x):\n",
    "    return absolute_value(square(x))"
   ]
  },
  {
   "cell_type": "code",
   "execution_count": 4,
   "id": "38eae618",
   "metadata": {},
   "outputs": [
    {
     "name": "stdout",
     "output_type": "stream",
     "text": [
      "81\n",
      "64\n"
     ]
    }
   ],
   "source": [
    "print(composite_function(9))  # 9\n",
    "print(composite_function(8))   # 16"
   ]
  },
  {
   "cell_type": "code",
   "execution_count": 1,
   "id": "bd6ee996",
   "metadata": {},
   "outputs": [
    {
     "name": "stdout",
     "output_type": "stream",
     "text": [
      "8\n"
     ]
    }
   ],
   "source": [
    "#Utilizando python\n",
    "\n",
    "print(abs(8))"
   ]
  }
 ],
 "metadata": {
  "kernelspec": {
   "display_name": "base",
   "language": "python",
   "name": "python3"
  },
  "language_info": {
   "codemirror_mode": {
    "name": "ipython",
    "version": 3
   },
   "file_extension": ".py",
   "mimetype": "text/x-python",
   "name": "python",
   "nbconvert_exporter": "python",
   "pygments_lexer": "ipython3",
   "version": "3.13.5"
  }
 },
 "nbformat": 4,
 "nbformat_minor": 5
}
