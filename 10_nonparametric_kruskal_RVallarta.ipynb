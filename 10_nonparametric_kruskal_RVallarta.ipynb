{
 "cells": [
  {
   "cell_type": "code",
   "execution_count": 5,
   "id": "55cd1bc9",
   "metadata": {},
   "outputs": [],
   "source": [
    "def import_csv(file):\n",
    "    # Read the file into a DataFrame: df\n",
    "    import pandas as pd\n",
    "    return pd.read_csv(file)"
   ]
  },
  {
   "cell_type": "code",
   "execution_count": null,
   "id": "531e3bd9",
   "metadata": {},
   "outputs": [],
   "source": [
    "pip install pandas"
   ]
  },
  {
   "cell_type": "code",
   "execution_count": 13,
   "id": "1e3256f4",
   "metadata": {},
   "outputs": [],
   "source": [
    "import pandas as pd\n",
    "\n",
    "def read_csv_to_dataframe(file_path):\n",
    "    \"\"\"\n",
    "    Reads a comma-separated CSV file and converts it into a pandas DataFrame.\n",
    "    \n",
    "    Parameters:\n",
    "        file_path (str): Path to the CSV file.\n",
    "    \n",
    "    Returns:\n",
    "        pd.DataFrame: DataFrame containing the CSV data.\n",
    "    \"\"\"\n",
    "    df = pd.read_csv(file_path)  # assumes the file is comma-separated\n",
    "    return df"
   ]
  },
  {
   "cell_type": "code",
   "execution_count": null,
   "id": "29369083",
   "metadata": {},
   "outputs": [],
   "source": [
    "# Ensure the function is defined (run the cell with the function definition if needed)\n",
    "terminos_df = read_csv_to_dataframe(r\"C:\\git_RobertVZ\\CursoPython\\bases_datos\\Terminos_lagoon_TA_DIC_2023_RawData.csv\")\n",
    "print(terminos_df.head())  # show first 5 rows"
   ]
  },
  {
   "cell_type": "code",
   "execution_count": 15,
   "id": "cc56f13b",
   "metadata": {},
   "outputs": [],
   "source": [
    "from scipy.stats import kruskal\n",
    "\n",
    "def kruskal_wallis_test(*groups, alpha=0.05):\n",
    "    \"\"\"\n",
    "    Performs the Kruskal-Wallis H-test for independent samples.\n",
    "    Accepts multiple groups as arguments.\n",
    "    Prints the H statistic, p-value, and interpretation.\n",
    "    \"\"\"\n",
    "    result = kruskal(*groups)\n",
    "    \n",
    "    print(f\"H statistic = {result.statistic}\")\n",
    "    print(f\"p-value = {result.pvalue}\")\n",
    "    \n",
    "    if result.pvalue < alpha:\n",
    "        print(\"The difference between groups is statistically significant.\")\n",
    "    else:\n",
    "        print(\"No statistically significant difference between groups.\")"
   ]
  },
  {
   "cell_type": "code",
   "execution_count": null,
   "id": "b15adc04",
   "metadata": {},
   "outputs": [],
   "source": [
    "pip install scikit-posthocs"
   ]
  },
  {
   "cell_type": "code",
   "execution_count": 16,
   "id": "6cd657a6",
   "metadata": {},
   "outputs": [],
   "source": [
    "import scikit_posthocs as sp\n",
    "# You need to install the scikit-posthocs package: conda install -c conda-forge scikit-posthocs\n",
    "\n",
    "def dunn_posthoc(data, group_col, value_col, p_adjust='bonferroni'):\n",
    "    \"\"\"\n",
    "    Runs Dunn's post-hoc test after Kruskal-Wallis.\n",
    "    \"\"\"\n",
    "    result = sp.posthoc_dunn(data, val_col=value_col, group_col=group_col, p_adjust=p_adjust)\n",
    "    print(result)\n",
    "    return result"
   ]
  },
  {
   "cell_type": "code",
   "execution_count": null,
   "id": "bf941d1d",
   "metadata": {},
   "outputs": [],
   "source": [
    "# Plot ta values for each area of the lagoon using seaborn\n",
    "import seaborn as sns\n",
    "import matplotlib.pyplot as plt\n",
    "\n",
    "sns.boxplot(x='area', y='dic_micromol_kg', data=terminos_df)\n",
    "plt.xlabel('Area of the lagoon')\n",
    "plt.ylabel('DIC (micromol/kg)')\n",
    "plt.title('DIC by Area of the Lagoon')\n",
    "plt.show()"
   ]
  },
  {
   "cell_type": "code",
   "execution_count": 22,
   "id": "61b890c2",
   "metadata": {},
   "outputs": [],
   "source": [
    "# Select the data for each area of the lagoon\n",
    "DIC_river = terminos_df[terminos_df['area'] == 'River']['dic_micromol_kg']\n",
    "DIC_plume = terminos_df[terminos_df['area'] == 'Plume']['dic_micromol_kg']\n",
    "DIC_coast= terminos_df[terminos_df['area'] == 'Coast']['dic_micromol_kg']"
   ]
  },
  {
   "cell_type": "code",
   "execution_count": 27,
   "id": "c0cb87cc",
   "metadata": {},
   "outputs": [
    {
     "name": "stdout",
     "output_type": "stream",
     "text": [
      "H statistic = 55.889669058187486\n",
      "p-value = 7.306553461098262e-13\n",
      "The difference between groups is statistically significant.\n"
     ]
    }
   ],
   "source": [
    "# Perform the Kruskal-Wallis test\n",
    "kruskal_wallis_test(DIC_river, DIC_plume, DIC_coast)"
   ]
  },
  {
   "cell_type": "code",
   "execution_count": null,
   "id": "fe869785",
   "metadata": {},
   "outputs": [],
   "source": [
    "dunn_posthoc(terminos_df, 'area', 'dic_micromol_kg')"
   ]
  },
  {
   "cell_type": "code",
   "execution_count": null,
   "id": "adfce6f2",
   "metadata": {},
   "outputs": [],
   "source": [
    "# Plot ta values for each area of the lagoon using seaborn\n",
    "import seaborn as sns\n",
    "import matplotlib.pyplot as plt\n",
    "\n",
    "sns.boxplot(x='area', y='temp_c', data=terminos_df)\n",
    "plt.xlabel('Area of the lagoon')\n",
    "plt.ylabel('Temperature (°C)')\n",
    "plt.title('Temperature by Area of the Lagoon')\n",
    "plt.show()"
   ]
  },
  {
   "cell_type": "code",
   "execution_count": 26,
   "id": "8d76eb1d",
   "metadata": {},
   "outputs": [],
   "source": [
    "# Select the data for each area of the lagoon\n",
    "TEMP_river = terminos_df[terminos_df['area'] == 'River']['temp_c']\n",
    "TEMP_plume = terminos_df[terminos_df['area'] == 'Plume']['temp_c']\n",
    "TEMP_coast= terminos_df[terminos_df['area'] == 'Coast']['temp_c']"
   ]
  },
  {
   "cell_type": "code",
   "execution_count": null,
   "id": "e57a18b0",
   "metadata": {},
   "outputs": [],
   "source": [
    "# Perform the Kruskal-Wallis test\n",
    "kruskal_wallis_test(TEMP_river, TEMP_plume, TEMP_coast)"
   ]
  },
  {
   "cell_type": "code",
   "execution_count": null,
   "id": "d962e311",
   "metadata": {},
   "outputs": [],
   "source": [
    "dunn_posthoc(terminos_df, 'area', 'temp_c')"
   ]
  }
 ],
 "metadata": {
  "kernelspec": {
   "display_name": ".venv (3.13.7)",
   "language": "python",
   "name": "python3"
  },
  "language_info": {
   "codemirror_mode": {
    "name": "ipython",
    "version": 3
   },
   "file_extension": ".py",
   "mimetype": "text/x-python",
   "name": "python",
   "nbconvert_exporter": "python",
   "pygments_lexer": "ipython3",
   "version": "3.13.7"
  }
 },
 "nbformat": 4,
 "nbformat_minor": 5
}
