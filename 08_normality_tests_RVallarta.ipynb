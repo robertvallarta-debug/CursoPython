{
 "cells": [
  {
   "cell_type": "code",
   "execution_count": 6,
   "id": "dc69be29",
   "metadata": {},
   "outputs": [],
   "source": [
    "import pandas as pd\n",
    "\n",
    "def read_csv_to_dataframe(file_path):\n",
    "    \"\"\"\n",
    "    Reads a comma-separated CSV file and converts it into a pandas DataFrame.\n",
    "    \n",
    "    Parameters:\n",
    "        file_path (str): Path to the CSV file.\n",
    "    \n",
    "    Returns:\n",
    "        pd.DataFrame: DataFrame containing the CSV data.\n",
    "    \"\"\"\n",
    "    df = pd.read_csv(file_path)  # assumes the file is comma-separated\n",
    "    return df\n",
    "    "
   ]
  },
  {
   "cell_type": "code",
   "execution_count": 2,
   "id": "6874e03d",
   "metadata": {},
   "outputs": [
    {
     "name": "stdout",
     "output_type": "stream",
     "text": [
      "   sample      date     estuary   area station layer_depth season  \\\n",
      "0  CDL01S  5/3/2020  Candelaria  River   CDL01     Surface    Dry   \n",
      "1  CDL01F  5/3/2020  Candelaria  River   CDL01      Bottom    Dry   \n",
      "2  CDL02S  5/3/2020  Candelaria  River   CDL02     Surface    Dry   \n",
      "3  CDL02F  5/3/2020  Candelaria  River   CDL02      Bottom    Dry   \n",
      "4  CDL03S  5/3/2020  Candelaria  River   CDL03     Surface    Dry   \n",
      "\n",
      "   chlorophy_microg_l  cond_microsiemens_cm  depth_m  ...  do_mg_l  sal_psu  \\\n",
      "0                0.36                7015.4    0.464  ...     7.12     3.56   \n",
      "1                4.19               29886.1    7.792  ...     4.90    16.97   \n",
      "2                0.92               16691.1    0.453  ...     6.99     8.94   \n",
      "3                2.23               24847.4    1.261  ...     6.52    13.87   \n",
      "4                0.58               46341.6    0.465  ...     6.24    28.06   \n",
      "\n",
      "   sp_cond_microsiemens_cm  turbidity_fnu  temp_c  latitude  longitude  \\\n",
      "0                   6547.7           1.47  28.740  18.55736  -91.25012   \n",
      "1                  27751.2          95.33  29.028  18.55722  -91.24990   \n",
      "2                  15429.1           5.50  29.283  18.61007  -91.24410   \n",
      "3                  23074.0          13.44  29.024  18.61005  -91.24403   \n",
      "4                  43670.8           3.60  28.202  18.63166  -91.29359   \n",
      "\n",
      "   dic_micromol_kg  ta_micromol_kg  dummy_data  \n",
      "0             3915            3863      3685.0  \n",
      "1             3698            3685         NaN  \n",
      "2             3724            3708      3708.0  \n",
      "3             3667            3992      3992.0  \n",
      "4             2928            3023      3023.0  \n",
      "\n",
      "[5 rows x 21 columns]\n"
     ]
    }
   ],
   "source": [
    "# Ensure the function is defined (run the cell with the function definition if needed)\n",
    "terminos_df = read_csv_to_dataframe(r\"C:\\git_RobertVZ\\CursoPython\\bases_datos\\Terminos_lagoon_TA_DIC_2023_RawData.csv\")\n",
    "print(terminos_df.head())  # show first 5 rows"
   ]
  },
  {
   "cell_type": "code",
   "execution_count": 3,
   "id": "386f0e34",
   "metadata": {},
   "outputs": [
    {
     "name": "stdout",
     "output_type": "stream",
     "text": [
      "0      3915\n",
      "1      3698\n",
      "2      3724\n",
      "3      3667\n",
      "4      2928\n",
      "       ... \n",
      "101    2715\n",
      "102    2638\n",
      "103    2608\n",
      "104    2605\n",
      "105    2542\n",
      "Name: dic_micromol_kg, Length: 106, dtype: int64\n"
     ]
    }
   ],
   "source": [
    "DIC_data = terminos_df[\"dic_micromol_kg\"]\n",
    "print(DIC_data)"
   ]
  },
  {
   "cell_type": "code",
   "execution_count": 4,
   "id": "53e63f10",
   "metadata": {},
   "outputs": [
    {
     "name": "stdout",
     "output_type": "stream",
     "text": [
      "Shapiro-Wilk Test\n",
      "Statistic = 0.8600, p-value = 0.0000\n",
      "❌ The data does not look Gaussian (reject H0)\n"
     ]
    }
   ],
   "source": [
    "import pandas as pd\n",
    "from scipy.stats import shapiro\n",
    "\n",
    "# Prueba de Shapiro-Wilk\n",
    "stat, p_value = shapiro(DIC_data)\n",
    "\n",
    "print(\"Shapiro-Wilk Test\")\n",
    "print(f\"Statistic = {stat:.4f}, p-value = {p_value:.4f}\")\n",
    "\n",
    "# Interpretación\n",
    "alpha = 0.05\n",
    "if p_value > alpha:\n",
    "    print(\"✅ The data looks Gaussian (fail to reject H0)\")\n",
    "else:\n",
    "    print(\"❌ The data does not look Gaussian (reject H0)\")\n"
   ]
  },
  {
   "cell_type": "code",
   "execution_count": 9,
   "id": "3ca3d009",
   "metadata": {},
   "outputs": [
    {
     "name": "stdout",
     "output_type": "stream",
     "text": [
      "0       3.56\n",
      "1      16.97\n",
      "2       8.94\n",
      "3      13.87\n",
      "4      28.06\n",
      "       ...  \n",
      "101    22.81\n",
      "102    22.57\n",
      "103    24.53\n",
      "104    22.57\n",
      "105    27.52\n",
      "Name: sal_psu, Length: 106, dtype: float64\n"
     ]
    }
   ],
   "source": [
    "salinity_data = terminos_df[\"sal_psu\"]\n",
    "print(salinity_data)"
   ]
  },
  {
   "cell_type": "code",
   "execution_count": 11,
   "id": "bb765693",
   "metadata": {},
   "outputs": [
    {
     "name": "stdout",
     "output_type": "stream",
     "text": [
      "Shapiro-Wilk Test\n",
      "Statistic = 0.8867, p-value = 0.0000\n",
      "❌ The data does not look Gaussian (reject H0)\n"
     ]
    }
   ],
   "source": [
    "import pandas as pd\n",
    "from scipy.stats import shapiro\n",
    "\n",
    "# Prueba de Shapiro-Wilk\n",
    "stat, p_value = shapiro(salinity_data)\n",
    "\n",
    "print(\"Shapiro-Wilk Test\")\n",
    "print(f\"Statistic = {stat:.4f}, p-value = {p_value:.4f}\")\n",
    "\n",
    "# Interpretación\n",
    "alpha = 0.05\n",
    "if p_value > alpha:\n",
    "    print(\"✅ The data looks Gaussian (fail to reject H0)\")\n",
    "else:\n",
    "    print(\"❌ The data does not look Gaussian (reject H0)\")\n"
   ]
  }
 ],
 "metadata": {
  "kernelspec": {
   "display_name": "base",
   "language": "python",
   "name": "python3"
  },
  "language_info": {
   "codemirror_mode": {
    "name": "ipython",
    "version": 3
   },
   "file_extension": ".py",
   "mimetype": "text/x-python",
   "name": "python",
   "nbconvert_exporter": "python",
   "pygments_lexer": "ipython3",
   "version": "3.13.5"
  }
 },
 "nbformat": 4,
 "nbformat_minor": 5
}
