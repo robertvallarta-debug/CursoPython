{
 "cells": [
  {
   "cell_type": "code",
   "execution_count": 8,
   "id": "acd96964",
   "metadata": {},
   "outputs": [],
   "source": [
    "import pandas as pd\n",
    "\n",
    "def read_csv_to_dataframe(file_path):\n",
    "    \"\"\"\n",
    "    Reads a comma-separated CSV file and converts it into a pandas DataFrame.\n",
    "    \n",
    "    Parameters:\n",
    "        file_path (str): Path to the CSV file.\n",
    "    \n",
    "    Returns:\n",
    "        pd.DataFrame: DataFrame containing the CSV data.\n",
    "    \"\"\"\n",
    "    df = pd.read_csv(file_path)  # assumes the file is comma-separated\n",
    "    return df\n",
    "    \n"
   ]
  },
  {
   "cell_type": "code",
   "execution_count": null,
   "id": "b7046352",
   "metadata": {},
   "outputs": [],
   "source": [
    "# Ensure the function is defined (run the cell with the function definition if needed)\n",
    "terminos_df = read_csv_to_dataframe(r\"C:\\git_RobertVZ\\CursoPython\\bases_datos\\Terminos_lagoon_TA_DIC_2023_RawData.csv\")\n",
    "print(terminos_df.head())  # show first 5 rows\n",
    "\n"
   ]
  },
  {
   "cell_type": "code",
   "execution_count": null,
   "id": "f142b850",
   "metadata": {},
   "outputs": [],
   "source": [
    "print(terminos_df.info())"
   ]
  },
  {
   "cell_type": "code",
   "execution_count": null,
   "id": "1dd44402",
   "metadata": {},
   "outputs": [],
   "source": [
    "print(terminos_df.describe())"
   ]
  },
  {
   "cell_type": "code",
   "execution_count": 14,
   "id": "57a71bcf",
   "metadata": {},
   "outputs": [],
   "source": [
    "terminos_df[\"TA_DIC_ratio\"] = terminos_df[\"ta_micromol_kg\"] / terminos_df[\"dic_micromol_kg\"]"
   ]
  },
  {
   "cell_type": "code",
   "execution_count": 16,
   "id": "0e30e80e",
   "metadata": {},
   "outputs": [
    {
     "name": "stdout",
     "output_type": "stream",
     "text": [
      "            mean       std\n",
      "season                    \n",
      "Dry     1.058558  0.086111\n",
      "Rainy   1.022350  0.100924\n"
     ]
    }
   ],
   "source": [
    "season_stats = terminos_df.groupby(\"season\")[\"TA_DIC_ratio\"].agg(\n",
    "    mean=\"mean\",\n",
    "    std=\"std\"\n",
    ")\n",
    "\n",
    "print(season_stats)"
   ]
  },
  {
   "cell_type": "code",
   "execution_count": 19,
   "id": "a043e0bd",
   "metadata": {},
   "outputs": [
    {
     "name": "stdout",
     "output_type": "stream",
     "text": [
      "                  mean       std\n",
      "season area                     \n",
      "Dry    Coast  1.115766  0.115033\n",
      "       Plume  1.059687  0.035574\n",
      "       River  1.000221  0.037747\n",
      "Rainy  Coast  1.090127  0.129658\n",
      "       Plume  1.025544  0.049222\n",
      "       River  0.945217  0.025084\n"
     ]
    }
   ],
   "source": [
    "\n",
    "season_area_stats = terminos_df.groupby([\"season\", \"area\"])[\"TA_DIC_ratio\"].agg(\n",
    "    mean=\"mean\",\n",
    "    std=\"std\"\n",
    ")\n",
    "\n",
    "print(season_area_stats)"
   ]
  },
  {
   "cell_type": "code",
   "execution_count": 20,
   "id": "a7b6837b",
   "metadata": {},
   "outputs": [],
   "source": [
    "season_area_stats.to_excel(\"TA_DIC_Season_Areas.xlsx\", index=False)"
   ]
  }
 ],
 "metadata": {
  "kernelspec": {
   "display_name": "base",
   "language": "python",
   "name": "python3"
  },
  "language_info": {
   "codemirror_mode": {
    "name": "ipython",
    "version": 3
   },
   "file_extension": ".py",
   "mimetype": "text/x-python",
   "name": "python",
   "nbconvert_exporter": "python",
   "pygments_lexer": "ipython3",
   "version": "3.13.5"
  }
 },
 "nbformat": 4,
 "nbformat_minor": 5
}
